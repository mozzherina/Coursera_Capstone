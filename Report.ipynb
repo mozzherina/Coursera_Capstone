{
 "cells": [
  {
   "cell_type": "markdown",
   "metadata": {},
   "source": [
    "<h1 align=center><font size = 6>Capstone Project: Final Report</font></h1>\n",
    "<h1 align=center><font size = 5>Finding Location for a Beauty Salon</font></h1>"
   ]
  },
  {
   "cell_type": "markdown",
   "metadata": {},
   "source": [
    "## Table of Contents\n",
    "\n",
    "1. Introduction\n",
    "2. Data\n",
    "3. Methodology\n",
    "4. Results \n",
    "5. Discussion \n",
    "6. Conclusion "
   ]
  },
  {
   "cell_type": "markdown",
   "metadata": {},
   "source": [
    "Data where you describe the data that will be used to solve the problem and the source of the data.\n",
    "A description of the data and how it will be used to solve the problem. \n",
    "\n",
    "Methodology section which represents the main component of the report where you discuss and describe any exploratory data analysis that you did, any inferential statistical testing that you performed, if any, and what machine learnings were used and why.\n",
    "\n",
    "Results section where you discuss the results.\n",
    "\n",
    "Discussion section where you discuss any observations you noted and any recommendations you can make based on the results.\n",
    "\n",
    "Conclusion section where you conclude the report."
   ]
  },
  {
   "cell_type": "markdown",
   "metadata": {},
   "source": [
    "## 1. Introduction"
   ]
  },
  {
   "cell_type": "markdown",
   "metadata": {},
   "source": [
    "Suppose your friend decided to open her own beauty salon in Toronto. That is mostly a spontaneous decision, she doesn't have any business experience, but is very enthusiastic and open-minded person. Choosing a location for the salon is one of those important decisions she has to make in the early stages of establishing her new business, so she asked you to help her to find a location for her future salon."
   ]
  },
  {
   "cell_type": "markdown",
   "metadata": {},
   "source": [
    "Taking into account tips from \"<a href=https://www.entrepreneur.com/article/236746>Choose the Best Location for Your Hair Salon and Day Spa </a>\", and \"<a href=https://www.salonsdirect.com/blog/choosing-the-perfect-location-for-your-salon/>Choosing the perfect location for your salon</a>\", you came up with the following __criteria for the appartment__:\n",
    "\n",
    "1. For a start she is looking for an appartment __for lease__.\n",
    "2. Since now she doesn't have any hired workers, she would be satisfied with a small appartment __from 300 to 800 square feet__.\n",
    "3. It should be __accessible by car, passersby and public transport__ (e.g. close to bus stop, or free parking, at the main street).\n",
    "4. For attracting new customers there should be __other retail businesses nearby__ (small shops, city malls).\n",
    "5. She is not ready for a direct competition with another beauty salon, thus there should be __no salons nearby__. \n",
    "6. There should be a __significant amount of foot traffic__ during the business day (since your friend is not ready for work on Sunday's evening)."
   ]
  },
  {
   "cell_type": "markdown",
   "metadata": {},
   "source": [
    "The goal is to choose the best available spot in accordance with the specified conditions. If there are more than one proper place, your friend will go with __the cheapest one__."
   ]
  },
  {
   "cell_type": "markdown",
   "metadata": {},
   "source": [
    "## 2. Data"
   ]
  },
  {
   "cell_type": "markdown",
   "metadata": {},
   "source": [
    "For a list of available properties we can use <a href=https://www.spacelist.ca>Spacelist</a> service. The service allows specifying search criteria in get-request, and returns results in a table format, which is plenty good enough for parsing. So that criteria 1, and 2 would be satisfied at once."
   ]
  },
  {
   "cell_type": "markdown",
   "metadata": {},
   "source": [
    "To filter available spots we will use the Foursquare API. Criteria from 3 to 5 could be satisfied by (not)finding proper venues within a specified radius (which also needs to be defined). "
   ]
  },
  {
   "cell_type": "markdown",
   "metadata": {},
   "source": [
    "The most complicated criteria is no. 6. Since the Foursquare API provides information about trending places, this can be used for determining foot trafic to salon-like places, i.e. venues from the category \"Health & Beauty\". The idea is the following:\n",
    "\n",
    "1. For each neighborhood in Toronto find top _n_ (where n needs to be determined) trending places during the business day. \n",
    "2. Cluster neighborhoods according to their interests.\n",
    "3. Select apartments inside neighborhoods with foot traffic to \"Health & Beauty\" venues."
   ]
  },
  {
   "cell_type": "code",
   "execution_count": null,
   "metadata": {},
   "outputs": [],
   "source": []
  }
 ],
 "metadata": {
  "kernelspec": {
   "display_name": "Python 3",
   "language": "python",
   "name": "python3"
  },
  "language_info": {
   "codemirror_mode": {
    "name": "ipython",
    "version": 3
   },
   "file_extension": ".py",
   "mimetype": "text/x-python",
   "name": "python",
   "nbconvert_exporter": "python",
   "pygments_lexer": "ipython3",
   "version": "3.7.4"
  }
 },
 "nbformat": 4,
 "nbformat_minor": 4
}
